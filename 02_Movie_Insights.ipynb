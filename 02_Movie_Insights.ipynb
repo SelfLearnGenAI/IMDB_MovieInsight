{
 "cells": [
  {
   "cell_type": "markdown",
   "id": "a8997edf",
   "metadata": {
    "id": "a8997edf"
   },
   "source": [
    "![Example Image](https://static.amazon.jobs/teams/53/images/IMDb_Header_Page.jpg?1501027252)"
   ]
  },
  {
   "cell_type": "markdown",
   "id": "ce6409ea",
   "metadata": {
    "id": "ce6409ea"
   },
   "source": [
    "## Problem Statement"
   ]
  },
  {
   "cell_type": "markdown",
   "id": "26b66efa",
   "metadata": {
    "id": "26b66efa"
   },
   "source": [
    "The provided Jupyter Notebook is designed to generate movie insights using advanced natural language processing (NLP) techniques and vector embeddings. The primary objectives and steps involved in this notebook include:\n",
    "\n",
    "1. **Library Installation and Setup**: Installing necessary libraries such as chromadb and langchain-openai, and importing them for use in the notebook.\n",
    "2. **Global Variables Configuration**: Setting up global variables, including API keys and model names required for embedding and language model functions.\n",
    "3. **Chroma DB Initialization**: Setting up Chroma DB and creating a collection to store movie data embeddings.\n",
    "4. **Embedding and Language Model Integration**: Using OpenAI’s embedding functions to create vector representations of movie data and setting up a language model (GPT-4) for generating insights.\n",
    "5. **Query Processing**: Implementing a question-answering system that processes user queries about movies and retrieves relevant information using the pre-trained language model and stored vector embeddings.\n",
    "\n",
    "<hr>\n",
    "\n",
    "The notebook aims to create an interactive and intelligent system for querying and analyzing movie data, leveraging state-of-the-art NLP models and vector databases to provide concise and relevant movie insights."
   ]
  },
  {
   "cell_type": "markdown",
   "id": "7adbda2f",
   "metadata": {
    "id": "7adbda2f"
   },
   "source": [
    "### Install Libraries"
   ]
  },
  {
   "cell_type": "code",
   "execution_count": null,
   "id": "c911f6d0",
   "metadata": {
    "colab": {
     "base_uri": "https://localhost:8080/"
    },
    "executionInfo": {
     "elapsed": 45567,
     "status": "ok",
     "timestamp": 1723259422853,
     "user": {
      "displayName": "Ahsan Ali",
      "userId": "10322933282848323379"
     },
     "user_tz": 240
    },
    "id": "c911f6d0",
    "outputId": "9512c471-c1c2-4518-b79c-5b9e82c19a20"
   },
   "outputs": [],
   "source": [
    "!pip install chromadb==0.5.3\n",
    "!pip install langchain-openai"
   ]
  },
  {
   "cell_type": "markdown",
   "id": "8d5a500b",
   "metadata": {
    "id": "8d5a500b"
   },
   "source": [
    "### Import Libraries"
   ]
  },
  {
   "cell_type": "code",
   "execution_count": 2,
   "id": "0609049f",
   "metadata": {
    "executionInfo": {
     "elapsed": 2210,
     "status": "ok",
     "timestamp": 1723259484308,
     "user": {
      "displayName": "Ahsan Ali",
      "userId": "10322933282848323379"
     },
     "user_tz": 240
    },
    "id": "0609049f"
   },
   "outputs": [],
   "source": [
    "import chromadb\n",
    "import json\n",
    "import pandas as pd\n",
    "import chromadb.utils.embedding_functions as embedding_functions"
   ]
  },
  {
   "cell_type": "markdown",
   "id": "98322454",
   "metadata": {
    "id": "98322454"
   },
   "source": [
    "### Setup the global variables"
   ]
  },
  {
   "cell_type": "code",
   "execution_count": null,
   "id": "6bd76c83",
   "metadata": {
    "executionInfo": {
     "elapsed": 180,
     "status": "ok",
     "timestamp": 1723259485776,
     "user": {
      "displayName": "Ahsan Ali",
      "userId": "10322933282848323379"
     },
     "user_tz": 240
    },
    "id": "6bd76c83"
   },
   "outputs": [],
   "source": [
    "OPENAI_API_KEY = \"sk-lkjsdfjdlajd\"\n",
    "CHROMA_COLLECTION_NAME = \"movie_collection\"\n",
    "EMBEDDING_MODEL_NAME = \"text-embedding-3-small\"\n",
    "LLM_MODEL_NAME = \"gpt-4o-mini-2024-07-18\""
   ]
  },
  {
   "cell_type": "markdown",
   "id": "7a51d60c",
   "metadata": {
    "id": "7a51d60c"
   },
   "source": [
    "### Setup Chroma DB/Collection"
   ]
  },
  {
   "cell_type": "markdown",
   "id": "959cd11c",
   "metadata": {
    "id": "959cd11c"
   },
   "source": [
    "![Example Image](https://miro.medium.com/v2/resize:fit:1400/1*nu_Mvi654Al_DV0i3P31Nw.png)"
   ]
  },
  {
   "cell_type": "code",
   "execution_count": 4,
   "id": "0cb51af9",
   "metadata": {
    "executionInfo": {
     "elapsed": 811,
     "status": "ok",
     "timestamp": 1723259496127,
     "user": {
      "displayName": "Ahsan Ali",
      "userId": "10322933282848323379"
     },
     "user_tz": 240
    },
    "id": "0cb51af9"
   },
   "outputs": [],
   "source": [
    "chroma_client = chromadb.Client()\n",
    "openai_ef = embedding_functions.OpenAIEmbeddingFunction(\n",
    "                api_key=OPENAI_API_KEY,\n",
    "                model_name=EMBEDDING_MODEL_NAME\n",
    "            )"
   ]
  },
  {
   "cell_type": "code",
   "execution_count": 5,
   "id": "d3ca65ae",
   "metadata": {
    "executionInfo": {
     "elapsed": 200,
     "status": "ok",
     "timestamp": 1723259500276,
     "user": {
      "displayName": "Ahsan Ali",
      "userId": "10322933282848323379"
     },
     "user_tz": 240
    },
    "id": "d3ca65ae"
   },
   "outputs": [],
   "source": [
    "# Create collection\n",
    "#chroma_client.delete_collection(CHROMA_COLLECTION_NAME)\n",
    "collection = chroma_client.get_or_create_collection(name=CHROMA_COLLECTION_NAME)"
   ]
  },
  {
   "cell_type": "markdown",
   "id": "5ab06072",
   "metadata": {
    "id": "5ab06072"
   },
   "source": [
    "### Load Data"
   ]
  },
  {
   "cell_type": "code",
   "execution_count": 6,
   "id": "ec80d31c",
   "metadata": {
    "colab": {
     "base_uri": "https://localhost:8080/"
    },
    "executionInfo": {
     "elapsed": 17773,
     "status": "ok",
     "timestamp": 1723259710070,
     "user": {
      "displayName": "Ahsan Ali",
      "userId": "10322933282848323379"
     },
     "user_tz": 240
    },
    "id": "ec80d31c",
    "outputId": "abe146f3-7e3b-4936-9946-282ad7fb16cf"
   },
   "outputs": [],
   "source": [
    "# from google.colab import drive\n",
    "# drive.mount('/content/drive')\n",
    "# df = pd.read_csv(\"/content/drive/MyDrive/GEN AI Learning/imdb_top_1000.csv\").drop(\"Poster_Link\", axis=1)\n",
    "\n",
    "df = pd.read_csv(\"data/imdb_top_1000.csv\").drop(\"Poster_Link\", axis=1)\n",
    "df[\"id\"] = df.Series_Title.str.lower() + \"_\" + df.Released_Year.astype(\"str\")\n",
    "df[[\"Released_Year\", \"IMDB_Rating\", \"Meta_score\", \"No_of_Votes\"]] = df[[\"Released_Year\", \"IMDB_Rating\",\n",
    "                                                                        \"Meta_score\", \"No_of_Votes\"]].astype(str)"
   ]
  },
  {
   "cell_type": "code",
   "execution_count": null,
   "id": "1e7bf80f",
   "metadata": {
    "colab": {
     "base_uri": "https://localhost:8080/",
     "height": 677
    },
    "executionInfo": {
     "elapsed": 211,
     "status": "ok",
     "timestamp": 1723259714207,
     "user": {
      "displayName": "Ahsan Ali",
      "userId": "10322933282848323379"
     },
     "user_tz": 240
    },
    "id": "1e7bf80f",
    "outputId": "3790d467-50ea-44f7-a371-fbfe3725b450"
   },
   "outputs": [],
   "source": [
    "df.head()"
   ]
  },
  {
   "cell_type": "code",
   "execution_count": null,
   "id": "6a4295c9",
   "metadata": {},
   "outputs": [],
   "source": [
    "# Convert the DataFrame to a JSON string with each record as a dictionary\n",
    "data_list = json.loads(df.to_json(orient=\"records\"))\n",
    "print(data_list)"
   ]
  },
  {
   "cell_type": "code",
   "execution_count": null,
   "id": "c7da4447",
   "metadata": {
    "colab": {
     "base_uri": "https://localhost:8080/"
    },
    "executionInfo": {
     "elapsed": 206,
     "status": "ok",
     "timestamp": 1723259726033,
     "user": {
      "displayName": "Ahsan Ali",
      "userId": "10322933282848323379"
     },
     "user_tz": 240
    },
    "id": "c7da4447",
    "outputId": "bade6640-b3e8-454b-804b-0e929323cfcb"
   },
   "outputs": [
    {
     "name": "stdout",
     "output_type": "stream",
     "text": [
      "1000\n"
     ]
    }
   ],
   "source": [
    "# Convert each dictionary in the list to a string representation\n",
    "data_list = [str(elem) for elem in data_list]\n",
    "print(len(data_list))"
   ]
  },
  {
   "cell_type": "code",
   "execution_count": null,
   "id": "cd5aecd2",
   "metadata": {},
   "outputs": [],
   "source": [
    "print(data_list)"
   ]
  },
  {
   "cell_type": "code",
   "execution_count": 9,
   "id": "a1b7ed2e",
   "metadata": {
    "executionInfo": {
     "elapsed": 2,
     "status": "ok",
     "timestamp": 1723259728949,
     "user": {
      "displayName": "Ahsan Ali",
      "userId": "10322933282848323379"
     },
     "user_tz": 240
    },
    "id": "a1b7ed2e"
   },
   "outputs": [],
   "source": [
    "movie_ids = list(df.id.values)"
   ]
  },
  {
   "cell_type": "code",
   "execution_count": 11,
   "id": "39afaeb9",
   "metadata": {
    "executionInfo": {
     "elapsed": 5982,
     "status": "ok",
     "timestamp": 1723259737634,
     "user": {
      "displayName": "Ahsan Ali",
      "userId": "10322933282848323379"
     },
     "user_tz": 240
    },
    "id": "39afaeb9"
   },
   "outputs": [],
   "source": [
    "# Add data to the collection\n",
    "collection.add(\n",
    "    embeddings = openai_ef(data_list), # Generate embeddings for the data_list using the openai_ef function\n",
    "    documents=data_list,\n",
    "    ids=movie_ids\n",
    ")"
   ]
  },
  {
   "cell_type": "code",
   "execution_count": 12,
   "id": "36e1b541",
   "metadata": {
    "executionInfo": {
     "elapsed": 192,
     "status": "ok",
     "timestamp": 1723259749408,
     "user": {
      "displayName": "Ahsan Ali",
      "userId": "10322933282848323379"
     },
     "user_tz": 240
    },
    "id": "36e1b541"
   },
   "outputs": [],
   "source": [
    "def get_vector_store_documents(query):\n",
    "    \"\"\"\n",
    "    Retrieve and sort documents from a vector store based on a query.\n",
    "\n",
    "    This function takes a query string, generates its embeddings, and queries\n",
    "    the vector store for the top 5 documents that are most similar to the query.\n",
    "    The results are then sorted by similarity score in descending order.\n",
    "\n",
    "    Parameters:\n",
    "    query (str): The query string to search for in the vector store.\n",
    "\n",
    "    Returns:\n",
    "    list: A list of the top 5 documents sorted by their similarity to the query.\n",
    "    \"\"\"\n",
    "    results = collection.query(\n",
    "        query_embeddings=openai_ef([query]),\n",
    "        n_results=5\n",
    "    )\n",
    "    sorted_list = sorted(zip(results['distances'][0], results['documents'][0]), reverse=True)\n",
    "    sorted_scores, sorted_documents = zip(*sorted_list)\n",
    "    sorted_documents = list(sorted_documents)\n",
    "    return sorted_documents"
   ]
  },
  {
   "cell_type": "code",
   "execution_count": null,
   "id": "b7918539",
   "metadata": {
    "colab": {
     "base_uri": "https://localhost:8080/"
    },
    "executionInfo": {
     "elapsed": 365,
     "status": "ok",
     "timestamp": 1723259754009,
     "user": {
      "displayName": "Ahsan Ali",
      "userId": "10322933282848323379"
     },
     "user_tz": 240
    },
    "id": "b7918539",
    "outputId": "52889860-09ed-4d43-f103-87aa3e8e5162"
   },
   "outputs": [],
   "source": [
    "get_vector_store_documents(\"movies talking about space\")"
   ]
  },
  {
   "cell_type": "markdown",
   "id": "92855fec",
   "metadata": {
    "id": "92855fec"
   },
   "source": [
    "<hr>"
   ]
  },
  {
   "cell_type": "markdown",
   "id": "17afd3b3",
   "metadata": {
    "id": "17afd3b3"
   },
   "source": [
    "### LLM Insights"
   ]
  },
  {
   "cell_type": "markdown",
   "id": "ea851c15",
   "metadata": {
    "id": "ea851c15"
   },
   "source": [
    "![Example Image](https://miro.medium.com/v2/resize:fit:1200/1*-PlFCd_VBcALKReO3ZaOEg.png)"
   ]
  },
  {
   "cell_type": "code",
   "execution_count": 14,
   "id": "3ffc097b",
   "metadata": {
    "executionInfo": {
     "elapsed": 833,
     "status": "ok",
     "timestamp": 1723259773188,
     "user": {
      "displayName": "Ahsan Ali",
      "userId": "10322933282848323379"
     },
     "user_tz": 240
    },
    "id": "3ffc097b"
   },
   "outputs": [],
   "source": [
    "import os\n",
    "from langchain_openai import ChatOpenAI\n",
    "from langchain_core.prompts import ChatPromptTemplate"
   ]
  },
  {
   "cell_type": "code",
   "execution_count": 15,
   "id": "b9a8ee70",
   "metadata": {
    "executionInfo": {
     "elapsed": 190,
     "status": "ok",
     "timestamp": 1723259775071,
     "user": {
      "displayName": "Ahsan Ali",
      "userId": "10322933282848323379"
     },
     "user_tz": 240
    },
    "id": "b9a8ee70"
   },
   "outputs": [],
   "source": [
    "os.environ[\"OPENAI_API_KEY\"] = OPENAI_API_KEY\n",
    "llm = ChatOpenAI(model=LLM_MODEL_NAME)"
   ]
  },
  {
   "cell_type": "code",
   "execution_count": 16,
   "id": "a015e8e7",
   "metadata": {
    "executionInfo": {
     "elapsed": 168,
     "status": "ok",
     "timestamp": 1723259779352,
     "user": {
      "displayName": "Ahsan Ali",
      "userId": "10322933282848323379"
     },
     "user_tz": 240
    },
    "id": "a015e8e7"
   },
   "outputs": [],
   "source": [
    "system_prompt = (\n",
    "    \"You are an assistant for question-answering tasks. \"\n",
    "    \"Use the following pieces of context to answer the question. If you don't know the answer, say that you don't know. Use three sentences maximum and keep the answer concise.\"\n",
    "    \"The context is strictly in json format with fields such as title, year of release, genre, imdb rating and brief introduction\"\n",
    "    \"\\n\\n\"\n",
    "    \"{context}\"\n",
    ")\n",
    "\n",
    "prompt = ChatPromptTemplate.from_messages(\n",
    "    [\n",
    "        (\"system\", system_prompt),\n",
    "        (\"human\", \"{input}\")\n",
    "    ]\n",
    ")\n",
    "\n",
    "llm_chain = prompt | llm"
   ]
  },
  {
   "cell_type": "code",
   "execution_count": 17,
   "id": "ef753fb2",
   "metadata": {
    "executionInfo": {
     "elapsed": 368,
     "status": "ok",
     "timestamp": 1723259783139,
     "user": {
      "displayName": "Ahsan Ali",
      "userId": "10322933282848323379"
     },
     "user_tz": 240
    },
    "id": "ef753fb2"
   },
   "outputs": [],
   "source": [
    "query = \"movies directed by christopher nolan\"\n",
    "vector_store_documents = get_vector_store_documents(query)"
   ]
  },
  {
   "cell_type": "code",
   "execution_count": null,
   "id": "cea9d0ef",
   "metadata": {
    "colab": {
     "base_uri": "https://localhost:8080/"
    },
    "executionInfo": {
     "elapsed": 1159,
     "status": "ok",
     "timestamp": 1723259786163,
     "user": {
      "displayName": "Ahsan Ali",
      "userId": "10322933282848323379"
     },
     "user_tz": 240
    },
    "id": "cea9d0ef",
    "outputId": "10c55f0e-f8e2-40c4-b203-af36fb64d6f4"
   },
   "outputs": [],
   "source": [
    "response = llm_chain.invoke({\"input\": query, \"context\": \"\\n\\n\".join(vector_store_documents)})\n",
    "print(response.content)"
   ]
  },
  {
   "cell_type": "code",
   "execution_count": null,
   "id": "fff50110",
   "metadata": {
    "id": "fff50110"
   },
   "outputs": [],
   "source": []
  }
 ],
 "metadata": {
  "colab": {
   "provenance": []
  },
  "kernelspec": {
   "display_name": ".venv",
   "language": "python",
   "name": "python3"
  },
  "language_info": {
   "codemirror_mode": {
    "name": "ipython",
    "version": 3
   },
   "file_extension": ".py",
   "mimetype": "text/x-python",
   "name": "python",
   "nbconvert_exporter": "python",
   "pygments_lexer": "ipython3",
   "version": "3.13.0"
  }
 },
 "nbformat": 4,
 "nbformat_minor": 5
}
